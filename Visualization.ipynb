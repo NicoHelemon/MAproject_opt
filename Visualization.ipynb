{
 "cells": [
  {
   "cell_type": "code",
   "execution_count": 1,
   "metadata": {},
   "outputs": [],
   "source": [
    "from WSBM import *\n",
    "from Transformations import *\n",
    "from Chernoff import *\n",
    "from Helper import *"
   ]
  },
  {
   "cell_type": "code",
   "execution_count": 2,
   "metadata": {},
   "outputs": [],
   "source": [
    "import numpy as np\n",
    "import matplotlib.pyplot as plt"
   ]
  },
  {
   "cell_type": "code",
   "execution_count": 3,
   "metadata": {},
   "outputs": [],
   "source": [
    "n = 1000\n",
    "\n",
    "pis = [0.1, 0.5]\n",
    "PIS = [np.diag([pi, 1-pi]) for pi in pis]\n",
    "RHOS = [0.25, 0.5]\n",
    "τ = 0.1\n",
    "\n",
    "ALPHAS = [np.array([[0.1, 1.0],\n",
    "\t\t\t\t\t[1.0, 1.0]]),\n",
    "\t\t  np.array([[0.5, 0.5],\n",
    "\t\t\t\t\t[0.5, 1.0]])]\n",
    "\n",
    "SIGMAS = [np.array([[1, 0.5],\n",
    "\t\t\t\t\t[0.5, 1]]),\n",
    "\t\t  np.array([[0.1, 0.5],\n",
    "\t\t\t\t\t[0.5, 1]])]"
   ]
  },
  {
   "cell_type": "code",
   "execution_count": 4,
   "metadata": {},
   "outputs": [],
   "source": [
    "Id    = IdentityTransform()\n",
    "Opp   = OppositeTransform()\n",
    "Log   = LogTransform()\n",
    "Tresh = ThresholdTransform(τ)\n",
    "\n",
    "Transforms = [Id, Opp, Log, Tresh]"
   ]
  },
  {
   "cell_type": "code",
   "execution_count": 5,
   "metadata": {},
   "outputs": [],
   "source": [
    "def get_transformed_graphs_separations_metrics(rho, Pi, ALPHAS, SIGMAS):\n",
    "\tGraphs = []\n",
    "\tfor Alpha in ALPHAS:\n",
    "\t\tbeta = betaWSBM(n, rho, Pi, Alpha)\n",
    "\t\tA, Z = beta(42)\n",
    "\t\tGraphs.append((A, Z, beta))\n",
    "\n",
    "\tfor Sigma in SIGMAS:\n",
    "\t\tlognorm = lognormWSBM(n, rho, Pi, Sigma)\n",
    "\t\tA, Z = lognorm(42)\n",
    "\t\tGraphs.append((A, Z, lognorm))\n",
    "\n",
    "\tmetrics = {}\n",
    "\tGraphs_name = []\n",
    "\n",
    "\tfor A, Z, model in Graphs:\n",
    "\t\tfor T in Transforms:\n",
    "\t\t\tmetrics[(model.name, T.name)] = TWSBInstance(model, T, T(A), Z)\n",
    "\t\tGraphs_name.append(model.name)\n",
    "\n",
    "\treturn metrics, Graphs_name"
   ]
  },
  {
   "cell_type": "code",
   "execution_count": 6,
   "metadata": {},
   "outputs": [],
   "source": [
    "METRICS = []\n",
    "for rho in RHOS:\n",
    "    for Pi in PIS:\n",
    "        METRICS.append((rho, Pi, get_transformed_graphs_separations_metrics(rho, Pi, ALPHAS, SIGMAS)))"
   ]
  },
  {
   "cell_type": "code",
   "execution_count": 7,
   "metadata": {},
   "outputs": [],
   "source": [
    "import numpy as np\n",
    "import matplotlib.pyplot as plt\n",
    "import ipywidgets as widgets\n",
    "\n",
    "def plot(metrics, Graphs_name):\n",
    "\tdef switch(mode='Truth'):\n",
    "\t\tfig, axes = plt.subplots(len(Graphs_name), len(Transforms), figsize=(15, 15))\n",
    "\t\tfor i, G_name in enumerate(Graphs_name):\n",
    "\t\t\taxes[i, 0].set_ylabel(G_name + \"\\n\")\n",
    "\t\t\tfor j, T in enumerate(Transforms):\n",
    "\t\t\t\tG = metrics[(G_name, T.name)]\n",
    "\t\t\t\tZ, X, Z_hat, M, Σ, C_true, C_graph, C_embedding, RAND = G.Z, G.X, G.Z_hat, G.M, G.Σ, G.C_true, G.C_graph, G.C_embedding, G.RAND\n",
    "\t\t\t\tax = axes[i][j]\n",
    "\t\t\t\tplt.sca(ax)\n",
    "\t\t\t\tif mode == 'Truth':\n",
    "\t\t\t\t\tax.scatter(X[:, 0], X[:, 1], c=Z, cmap='bwr', marker='.', alpha=0.2)\n",
    "\t\t\t\telse:\n",
    "\t\t\t\t\tax.scatter(X[:, 0], X[:, 1], c=Z_hat, cmap='bwr', marker='.', alpha=0.2)\n",
    "\t\t\t\tax.set_xticks([])\n",
    "\t\t\t\tax.set_yticks([])\n",
    "\t\t\t\tfor mean, cov in zip(M, Σ):\n",
    "\t\t\t\t\teigenvalues, eigenvectors = np.linalg.eigh(cov)\n",
    "\t\t\t\t\tangle = np.degrees(np.arctan2(eigenvectors[0, 1], eigenvectors[0, 0]))\n",
    "\t\t\t\t\twidth, height = 2 * np.sqrt(6 * eigenvalues)\n",
    "\t\t\t\t\tellip = plt.matplotlib.patches.Ellipse(\n",
    "\t\t\t\t\t\tmean, width, height, angle=angle, edgecolor='k', facecolor='none', linestyle='solid'\n",
    "\t\t\t\t\t)\n",
    "\t\t\t\t\tax.add_patch(ellip)\n",
    "\t\t\t\ttransform_name = T.name + \"\\n\" if i == 0 else \"\"\n",
    "\t\t\t\ttitle = (\n",
    "\t\t\t\t\ttransform_name\n",
    "\t\t\t\t\t+ f\"RI: {RAND:.2f}\\n\"\n",
    "\t\t\t\t\t+ f\"CT: {C_true:.5f} \"\n",
    "\t\t\t\t\t+ f\"CG: {C_graph:.5f} \"\n",
    "\t\t\t\t\t+ f\"CE: {C_embedding:.5f}\"\n",
    "\t\t\t\t)\n",
    "\t\t\t\tax.set_title(title)\n",
    "\t\tplt.tight_layout()\n",
    "\t\tplt.show()\n",
    "\n",
    "\twidgets.interact(switch, mode=['Truth', 'Prediction'])"
   ]
  },
  {
   "cell_type": "code",
   "execution_count": null,
   "metadata": {},
   "outputs": [
    {
     "name": "stdout",
     "output_type": "stream",
     "text": [
      "rho = 0.25\n",
      " Pi = [[0.1 0. ]\n",
      " [0.  0.9]]\n"
     ]
    },
    {
     "data": {
      "application/vnd.jupyter.widget-view+json": {
       "model_id": "10a0286776264086b3ed7018ef710de1",
       "version_major": 2,
       "version_minor": 0
      },
      "text/plain": [
       "interactive(children=(Dropdown(description='mode', options=('Truth', 'Prediction'), value='Truth'), Output()),…"
      ]
     },
     "metadata": {},
     "output_type": "display_data"
    },
    {
     "name": "stdout",
     "output_type": "stream",
     "text": [
      "rho = 0.25\n",
      " Pi = [[0.5 0. ]\n",
      " [0.  0.5]]\n"
     ]
    },
    {
     "data": {
      "application/vnd.jupyter.widget-view+json": {
       "model_id": "1813122017664717bed4e17ce05960d7",
       "version_major": 2,
       "version_minor": 0
      },
      "text/plain": [
       "interactive(children=(Dropdown(description='mode', options=('Truth', 'Prediction'), value='Truth'), Output()),…"
      ]
     },
     "metadata": {},
     "output_type": "display_data"
    },
    {
     "name": "stdout",
     "output_type": "stream",
     "text": [
      "rho = 0.5\n",
      " Pi = [[0.1 0. ]\n",
      " [0.  0.9]]\n"
     ]
    },
    {
     "data": {
      "application/vnd.jupyter.widget-view+json": {
       "model_id": "c51ab83c80244cf780056a6ddd8d7fed",
       "version_major": 2,
       "version_minor": 0
      },
      "text/plain": [
       "interactive(children=(Dropdown(description='mode', options=('Truth', 'Prediction'), value='Truth'), Output()),…"
      ]
     },
     "metadata": {},
     "output_type": "display_data"
    },
    {
     "name": "stdout",
     "output_type": "stream",
     "text": [
      "rho = 0.5\n",
      " Pi = [[0.5 0. ]\n",
      " [0.  0.5]]\n"
     ]
    },
    {
     "data": {
      "application/vnd.jupyter.widget-view+json": {
       "model_id": "ee74a9e64819456bac922210b029a515",
       "version_major": 2,
       "version_minor": 0
      },
      "text/plain": [
       "interactive(children=(Dropdown(description='mode', options=('Truth', 'Prediction'), value='Truth'), Output()),…"
      ]
     },
     "metadata": {},
     "output_type": "display_data"
    }
   ],
   "source": [
    "for rho, Pi, (metrics, Graphs_name) in METRICS:\n",
    "\tprint(f\"rho = {rho}\\n Pi = {Pi}\")\n",
    "\tplot(metrics, Graphs_name)"
   ]
  }
 ],
 "metadata": {
  "kernelspec": {
   "display_name": "Python 3",
   "language": "python",
   "name": "python3"
  },
  "language_info": {
   "codemirror_mode": {
    "name": "ipython",
    "version": 3
   },
   "file_extension": ".py",
   "mimetype": "text/x-python",
   "name": "python",
   "nbconvert_exporter": "python",
   "pygments_lexer": "ipython3",
   "version": "3.9.11"
  }
 },
 "nbformat": 4,
 "nbformat_minor": 2
}
