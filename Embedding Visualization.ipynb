{
 "cells": [
  {
   "cell_type": "code",
   "execution_count": 1,
   "metadata": {},
   "outputs": [],
   "source": [
    "from Objects.Transformations import *\n",
    "from Objects.WSBM import *\n",
    "from Objects.TWSBMInstance import *\n",
    "\n",
    "from Plotting.Plotting import *"
   ]
  },
  {
   "cell_type": "code",
   "execution_count": 2,
   "metadata": {},
   "outputs": [],
   "source": [
    "metrics = {}\n",
    "for rho, pi in product(RHOS, PIS):\n",
    "\tmetrics[(rho, pi)] = {}\n",
    "\tfor model, model_params in MODELS_AND_PARAMS:\n",
    "\t\tm = model(rho, pi, model_params)\n",
    "\t\tA, Z = m(42)\n",
    "\t\tmetrics[(rho, pi)][m] = {}\n",
    "\t\tfor t in TRANSFORMS:\n",
    "\t\t\tmetrics[(rho, pi)][m][t] = TWSBMInstance(model = m, transformation = t, A = t(A), Z = Z)"
   ]
  },
  {
   "cell_type": "code",
   "execution_count": 32,
   "metadata": {},
   "outputs": [
    {
     "data": {
      "application/vnd.jupyter.widget-view+json": {
       "model_id": "e536ba2ec46b40aaa6f038760f11b95f",
       "version_major": 2,
       "version_minor": 0
      },
      "text/plain": [
       "interactive(children=(Dropdown(description='mode', options=('Truth', 'Prediction'), value='Truth'), Output()),…"
      ]
     },
     "metadata": {},
     "output_type": "display_data"
    },
    {
     "data": {
      "application/vnd.jupyter.widget-view+json": {
       "model_id": "d638166367fc4df68628086b5a2e0fee",
       "version_major": 2,
       "version_minor": 0
      },
      "text/plain": [
       "interactive(children=(Dropdown(description='mode', options=('Truth', 'Prediction'), value='Truth'), Output()),…"
      ]
     },
     "metadata": {},
     "output_type": "display_data"
    },
    {
     "data": {
      "application/vnd.jupyter.widget-view+json": {
       "model_id": "c23aa1f26fac4f409c3e60b13b93abc4",
       "version_major": 2,
       "version_minor": 0
      },
      "text/plain": [
       "interactive(children=(Dropdown(description='mode', options=('Truth', 'Prediction'), value='Truth'), Output()),…"
      ]
     },
     "metadata": {},
     "output_type": "display_data"
    },
    {
     "data": {
      "application/vnd.jupyter.widget-view+json": {
       "model_id": "2862b0b21558429d93ed069ef235d5eb",
       "version_major": 2,
       "version_minor": 0
      },
      "text/plain": [
       "interactive(children=(Dropdown(description='mode', options=('Truth', 'Prediction'), value='Truth'), Output()),…"
      ]
     },
     "metadata": {},
     "output_type": "display_data"
    }
   ],
   "source": [
    "for rho, pi in product(RHOS, PIS):\n",
    "\tplot_embedding(rho, pi, metrics[(rho, pi)])"
   ]
  }
 ],
 "metadata": {
  "kernelspec": {
   "display_name": "Python 3",
   "language": "python",
   "name": "python3"
  },
  "language_info": {
   "codemirror_mode": {
    "name": "ipython",
    "version": 3
   },
   "file_extension": ".py",
   "mimetype": "text/x-python",
   "name": "python",
   "nbconvert_exporter": "python",
   "pygments_lexer": "ipython3",
   "version": "3.9.11"
  }
 },
 "nbformat": 4,
 "nbformat_minor": 2
}
